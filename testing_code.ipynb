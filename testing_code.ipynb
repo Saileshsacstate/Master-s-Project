{
 "cells": [
  {
   "cell_type": "code",
   "execution_count": 1,
   "id": "5be8d61e",
   "metadata": {},
   "outputs": [],
   "source": [
    "import pandas as pd\n",
    "from sklearn.model_selection import train_test_split\n",
    "from sklearn.feature_extraction.text import TfidfVectorizer\n",
    "from xgboost import XGBClassifier\n",
    "from sklearn.metrics import accuracy_score\n",
    "import pickle\n",
    "import nltk\n",
    "from nltk.corpus import stopwords\n",
    "from nltk.tokenize import word_tokenize\n",
    "import string\n",
    "\n"
   ]
  },
  {
   "cell_type": "code",
   "execution_count": 2,
   "id": "b6edc83d",
   "metadata": {},
   "outputs": [],
   "source": [
    "# Function to preprocess text data\n",
    "def preprocess_text(text):\n",
    "    # Tokenization\n",
    "    tokens = word_tokenize(text)\n",
    "    \n",
    "    # Remove stopwords\n",
    "    stop_words = set(stopwords.words('english'))\n",
    "    tokens = [word for word in tokens if word.lower() not in stop_words]\n",
    "    \n",
    "    # Remove punctuation\n",
    "    tokens = [word for word in tokens if word not in string.punctuation]\n",
    "    \n",
    "    # Join tokens back into a single string\n",
    "    preprocessed_text = ' '.join(tokens)\n",
    "    \n",
    "    return preprocessed_text"
   ]
  },
  {
   "cell_type": "code",
   "execution_count": 3,
   "id": "ec7c04e0",
   "metadata": {},
   "outputs": [
    {
     "name": "stdout",
     "output_type": "stream",
     "text": [
      "XGBClassifier(base_score=0.5, booster='gbtree', colsample_bylevel=1,\n",
      "              colsample_bynode=1, colsample_bytree=1, enable_categorical=False,\n",
      "              gamma=0, gpu_id=-1, importance_type=None,\n",
      "              interaction_constraints='', learning_rate=0.300000012,\n",
      "              max_delta_step=0, max_depth=6, min_child_weight=1, missing=nan,\n",
      "              monotone_constraints='()', n_estimators=100, n_jobs=12,\n",
      "              num_parallel_tree=1, objective='multi:softprob', predictor='auto',\n",
      "              random_state=0, reg_alpha=0, reg_lambda=1, scale_pos_weight=None,\n",
      "              subsample=1, tree_method='exact', validate_parameters=1,\n",
      "              verbosity=None)\n"
     ]
    }
   ],
   "source": [
    "\n",
    "\n",
    "# Load the xgb_classifier object\n",
    "with open('xgb_classifier.pkl', 'rb') as f:\n",
    "    xgb_classifier_loaded = pickle.load(f)\n",
    "\n",
    "# Now you can use xgb_classifier_loaded as your loaded object\n",
    "print(xgb_classifier_loaded)\n"
   ]
  },
  {
   "cell_type": "code",
   "execution_count": 4,
   "id": "cb1b83f6",
   "metadata": {},
   "outputs": [],
   "source": [
    "#from sklearn.feature_extraction.text import TfidfVectorizer\n",
    "\n",
    "# Assuming you have already trained your TfidfVectorizer\n",
    "#tfidf_vectorizer = TfidfVectorizer()\n",
    "#X_train_tfidf = tfidf_vectorizer.fit_transform(X_train)\n",
    "import joblib\n",
    "# Save the trained model to a file\n",
    "#joblib.dump(tfidf_vectorizer, 'tfidf_vectorizer_model.pkl')\n",
    "\n",
    "# Load the trained model from file\n",
    "tfidf_vectorizer_loaded = joblib.load('tfidf_vectorizer_model.pkl')\n",
    "\n",
    "# You can now use tfidf_vectorizer_loaded to transform new data\n",
    "#X_test_tfidf = tfidf_vectorizer_loaded.transform(X_test)"
   ]
  },
  {
   "cell_type": "code",
   "execution_count": 5,
   "id": "fdbc1ce0",
   "metadata": {},
   "outputs": [
    {
     "name": "stdout",
     "output_type": "stream",
     "text": [
      "Predicted Rating for the test review: 5\n"
     ]
    }
   ],
   "source": [
    "# Test the model on a single text review\n",
    "test_review = \"very bad food \"\n",
    "preprocessed_review = preprocess_text(test_review)\n",
    "test_review_tfidf =tfidf_vectorizer_loaded.transform([preprocessed_review])\n",
    "predicted_rating = xgb_classifier_loaded.predict(test_review_tfidf)[0]\n",
    "print(\"Predicted Rating for the test review:\", predicted_rating)"
   ]
  },
  {
   "cell_type": "code",
   "execution_count": null,
   "id": "cb772577",
   "metadata": {},
   "outputs": [],
   "source": []
  }
 ],
 "metadata": {
  "kernelspec": {
   "display_name": "restaurant",
   "language": "python",
   "name": "restaurant"
  },
  "language_info": {
   "codemirror_mode": {
    "name": "ipython",
    "version": 3
   },
   "file_extension": ".py",
   "mimetype": "text/x-python",
   "name": "python",
   "nbconvert_exporter": "python",
   "pygments_lexer": "ipython3",
   "version": "3.7.16"
  }
 },
 "nbformat": 4,
 "nbformat_minor": 5
}
